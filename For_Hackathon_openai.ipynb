{
 "cells": [
  {
   "cell_type": "code",
   "execution_count": 2,
   "id": "27cfd75b-66dc-4fa2-bdac-69d9b452775b",
   "metadata": {},
   "outputs": [],
   "source": [
    "#!pip install langchain_cohere\n",
    "#!pip install --force-reinstall --no-cache-dir langchain-cohere"
   ]
  },
  {
   "cell_type": "code",
   "execution_count": 3,
   "id": "6ffc22ed-b150-48a8-b813-81e3953fb3c9",
   "metadata": {},
   "outputs": [],
   "source": [
    "class Settings:\n",
    "    from dotenv import load_dotenv\n",
    "    import os\n",
    "    load_dotenv(\"api_keys.env\")\n",
    "    cohere_api_key  = os.getenv(\"COHERE_API_KEY\")\n",
    "\n",
    "def get_settings():\n",
    "    return Settings()"
   ]
  },
  {
   "cell_type": "code",
   "execution_count": 4,
   "id": "884410aa-9a3c-4c95-a394-192029ffc3b0",
   "metadata": {},
   "outputs": [
    {
     "name": "stdout",
     "output_type": "stream",
     "text": [
      "寿司がお好きとのことですが、**どんな種類の寿司が一番お好みですか？**\n"
     ]
    }
   ],
   "source": [
    "from langchain_cohere import ChatCohere\n",
    "from langchain_core.prompts import ChatPromptTemplate\n",
    "from langchain_core.runnables.history import RunnableWithMessageHistory\n",
    "from langchain_core.runnables import RunnableLambda\n",
    "from langchain_core.messages import HumanMessage\n",
    "from langchain.memory import ChatMessageHistory\n",
    "\n",
    "# 設定の読み込み（APIキーなど）\n",
    "settings = get_settings()\n",
    "\n",
    "# Cohereクライアントの初期化\n",
    "llm = ChatCohere(cohere_api_key=settings.cohere_api_key)\n",
    "\n",
    "# プロンプトテンプレート（Chat形式）\n",
    "prompt = ChatPromptTemplate.from_messages([\n",
    "    (\"system\", \"あなたは親切なAIチューターです。以下の会話履歴に基づいて、日本語で1つ質問してください。トピック: {topic}\"),\n",
    "    (\"human\", \"{input}\")\n",
    "])\n",
    "\n",
    "# チェーンの構築\n",
    "chain = prompt | llm\n",
    "\n",
    "# 会話履歴を管理するための関数（ここでは単純な辞書を使う）\n",
    "store = {}\n",
    "\n",
    "def get_session_history(session_id):\n",
    "    if session_id not in store:\n",
    "        store[session_id] = ChatMessageHistory()\n",
    "    return store[session_id]\n",
    "\n",
    "# RunnableWithMessageHistoryでセッション管理付きに\n",
    "chain_with_history = RunnableWithMessageHistory(\n",
    "    chain,\n",
    "    lambda session_id: get_session_history(session_id),\n",
    "    input_messages_key=\"input\",\n",
    "    history_messages_key=\"history\"\n",
    ")\n",
    "\n",
    "# 実行（session_id付きで）\n",
    "response = chain_with_history.invoke(\n",
    "    {\"input\": \"寿司が好きです。\", \"topic\": \"食文化\"},\n",
    "    config={\"configurable\": {\"session_id\": \"user-session-001\"}}\n",
    ")\n",
    "\n",
    "print(response.content)\n"
   ]
  },
  {
   "cell_type": "code",
   "execution_count": 5,
   "id": "f968da50-252c-496f-9c84-4b42397dd38d",
   "metadata": {},
   "outputs": [
    {
     "ename": "ModuleNotFoundError",
     "evalue": "No module named 'ipywidgets'",
     "output_type": "error",
     "traceback": [
      "\u001b[31m---------------------------------------------------------------------------\u001b[39m",
      "\u001b[31mModuleNotFoundError\u001b[39m                       Traceback (most recent call last)",
      "\u001b[36mCell\u001b[39m\u001b[36m \u001b[39m\u001b[32mIn[5]\u001b[39m\u001b[32m, line 2\u001b[39m\n\u001b[32m      1\u001b[39m \u001b[38;5;28;01mfrom\u001b[39;00m\u001b[38;5;250m \u001b[39m\u001b[34;01mIPython\u001b[39;00m\u001b[34;01m.\u001b[39;00m\u001b[34;01mdisplay\u001b[39;00m\u001b[38;5;250m \u001b[39m\u001b[38;5;28;01mimport\u001b[39;00m display, HTML\n\u001b[32m----> \u001b[39m\u001b[32m2\u001b[39m \u001b[38;5;28;01mimport\u001b[39;00m\u001b[38;5;250m \u001b[39m\u001b[34;01mipywidgets\u001b[39;00m\u001b[38;5;250m \u001b[39m\u001b[38;5;28;01mas\u001b[39;00m\u001b[38;5;250m \u001b[39m\u001b[34;01mwidgets\u001b[39;00m\n\u001b[32m      4\u001b[39m \u001b[38;5;66;03m# セッションIDを決めておく（毎回同じなら履歴が続く）\u001b[39;00m\n\u001b[32m      5\u001b[39m session_id = \u001b[33m\"\u001b[39m\u001b[33muser-session-001\u001b[39m\u001b[33m\"\u001b[39m\n",
      "\u001b[31mModuleNotFoundError\u001b[39m: No module named 'ipywidgets'"
     ]
    }
   ],
   "source": [
    "from IPython.display import display, HTML\n",
    "import ipywidgets as widgets\n",
    "\n",
    "# セッションIDを決めておく（毎回同じなら履歴が続く）\n",
    "session_id = \"user-session-001\"\n",
    "\n",
    "# テキスト入力と出力表示の準備\n",
    "input_box = widgets.Text(placeholder=\"あなたの発言を入力してください\", description=\"👤:\")\n",
    "output_area = widgets.Output()\n",
    "\n",
    "# 入力イベント処理関数\n",
    "def on_input_submit(sender):\n",
    "    user_input = input_box.value\n",
    "    input_box.value = \"\"  # 入力欄をクリア\n",
    "\n",
    "    with output_area:\n",
    "        print(f\"👤: {user_input}\")\n",
    "        response = chain_with_history.invoke(\n",
    "            {\"input\": user_input, \"topic\": \"食文化\"},\n",
    "            config={\"configurable\": {\"session_id\": session_id}}\n",
    "        )\n",
    "        print(f\"🤖: {response.content}\")\n",
    "\n",
    "# 入力ボックスにイベントハンドラを登録\n",
    "input_box.on_submit(on_input_submit)\n",
    "\n",
    "# 表示\n",
    "display(HTML(\"<h3>🗣️ AIと会話してみましょう</h3>\"))\n",
    "display(input_box, output_area)\n"
   ]
  },
  {
   "cell_type": "code",
   "execution_count": null,
   "id": "2b5ce092-a435-4b0e-a5b8-0b7b5998ac28",
   "metadata": {},
   "outputs": [],
   "source": []
  }
 ],
 "metadata": {
  "kernelspec": {
   "display_name": "Python 3 (ipykernel)",
   "language": "python",
   "name": "python3"
  },
  "language_info": {
   "codemirror_mode": {
    "name": "ipython",
    "version": 3
   },
   "file_extension": ".py",
   "mimetype": "text/x-python",
   "name": "python",
   "nbconvert_exporter": "python",
   "pygments_lexer": "ipython3",
   "version": "3.11.2"
  }
 },
 "nbformat": 4,
 "nbformat_minor": 5
}
